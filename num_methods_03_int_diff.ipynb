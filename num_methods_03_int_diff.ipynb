{
  "nbformat": 4,
  "nbformat_minor": 0,
  "metadata": {
    "colab": {
      "provenance": []
    },
    "kernelspec": {
      "name": "python3",
      "display_name": "Python 3"
    },
    "language_info": {
      "name": "python"
    }
  },
  "cells": [
    {
      "cell_type": "markdown",
      "source": [
        "**Ex 01. Numerical integration - Trapezoid rule**"
      ],
      "metadata": {
        "id": "-Yr4ssS069jK"
      }
    },
    {
      "cell_type": "code",
      "execution_count": null,
      "metadata": {
        "colab": {
          "base_uri": "https://localhost:8080/"
        },
        "id": "CTM_ZuIx3H38",
        "outputId": "8e3ba174-73ed-4084-f902-8a91b52b4a37"
      },
      "outputs": [
        {
          "output_type": "stream",
          "name": "stdout",
          "text": [
            "Trapezoidal Rule Result: 0.3333499999999999\n"
          ]
        }
      ],
      "source": [
        "import numpy as np\n",
        "\n",
        "def trapezoidal_rule(f, a, b, n):\n",
        "    x = np.linspace(a, b, n+1)\n",
        "    y = f(x)\n",
        "    dx = (b - a) / n\n",
        "    integral = (dx / 2) * np.sum(y[:-1] + y[1:])\n",
        "    return integral\n",
        "\n",
        "# Function to integrate\n",
        "f = lambda x: x**2\n",
        "\n",
        "# Integration limits\n",
        "a, b = 0, 1\n",
        "\n",
        "# Number of intervals\n",
        "n = 100\n",
        "\n",
        "result = trapezoidal_rule(f, a, b, n)\n",
        "print(\"Trapezoidal Rule Result:\", result)"
      ]
    },
    {
      "cell_type": "markdown",
      "source": [
        "**Ex 02. Numerical integration - Simpson's Rule**"
      ],
      "metadata": {
        "id": "kZkb5Do46yen"
      }
    },
    {
      "cell_type": "code",
      "source": [
        "def simpsons_rule(f, a, b, n):\n",
        "    if n % 2:\n",
        "        n += 1  # n must be even\n",
        "    x = np.linspace(a, b, n+1)\n",
        "    y = f(x)\n",
        "    dx = (b - a) / n\n",
        "    integral = (dx / 3) * np.sum(y[0:-1:2] + 4*y[1::2] + y[2::2])\n",
        "    return integral\n",
        "\n",
        "result = simpsons_rule(f, a, b, n)\n",
        "print(\"Simpson's Rule Result:\", result)"
      ],
      "metadata": {
        "colab": {
          "base_uri": "https://localhost:8080/"
        },
        "id": "GKGAZ28T3Ypq",
        "outputId": "134c5cfa-a3ce-46c8-c994-712a5084540c"
      },
      "execution_count": null,
      "outputs": [
        {
          "output_type": "stream",
          "name": "stdout",
          "text": [
            "Simpson's Rule Result: 0.33333333333333337\n"
          ]
        }
      ]
    },
    {
      "cell_type": "markdown",
      "source": [
        "**Ex 03. Numerical differentation**"
      ],
      "metadata": {
        "id": "N0ei4kAH6gNk"
      }
    },
    {
      "cell_type": "code",
      "source": [
        "def forward_difference(f, x, h=1e-5):\n",
        "    return (f(x + h) - f(x)) / h\n",
        "\n",
        "def central_difference(f, x, h=1e-5):\n",
        "    return (f(x + h) - f(x - h)) / (2 * h)\n",
        "\n",
        "# Function to differentiate\n",
        "f = lambda x: x**2\n",
        "\n",
        "# Point at which to differentiate\n",
        "x = 1\n",
        "\n",
        "forward_diff = forward_difference(f, x)\n",
        "central_diff = central_difference(f, x)\n",
        "\n",
        "print(\"Forward Difference Result:\", forward_diff)\n",
        "print(\"Central Difference Result:\", central_diff)"
      ],
      "metadata": {
        "id": "tYQ7Q-pc48iA",
        "colab": {
          "base_uri": "https://localhost:8080/"
        },
        "outputId": "4fa5dc19-4dc6-4e72-b3b8-58ab4bad0473"
      },
      "execution_count": null,
      "outputs": [
        {
          "output_type": "stream",
          "name": "stdout",
          "text": [
            "Forward Difference Result: 2.00001000001393\n",
            "Central Difference Result: 2.000000000002\n"
          ]
        }
      ]
    }
  ]
}